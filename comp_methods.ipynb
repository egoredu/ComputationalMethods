{
 "cells": [
  {
   "cell_type": "markdown",
   "metadata": {},
   "source": [
    "# Задача 1\n",
    "## Неравностоящие узлы"
   ]
  },
  {
   "cell_type": "code",
   "execution_count": 1,
   "metadata": {},
   "outputs": [],
   "source": [
    "# def calc_div_diff(values, nodes, n, i):\n",
    "#     # рекурсивно вычисляем р-р порядка n (i - последний индекс)\n",
    "#     if n == 0: return values[0]\n",
    "#     elif n == 1: return (values[i] - values[i - 1]) / (nodes[i] - nodes[i - 1])\n",
    "#     numerator = calc_div_diff(values, nodes, n - 1, i) - calc_div_diff(values, nodes, n - 1, i - 1)\n",
    "#     return numerator / (nodes[i] - nodes[i - n])"
   ]
  },
  {
   "cell_type": "code",
   "execution_count": 2,
   "metadata": {},
   "outputs": [],
   "source": [
    "import numpy as np\n",
    "import matplotlib.pyplot as plt\n",
    "from matplotlib import style\n",
    "style.use('seaborn')\n",
    "import pandas as pd\n",
    "from math import factorial\n",
    "\n",
    "class NewtonInterpolation(object):\n",
    "    def __init__(self, x, y):\n",
    "        self.x = np.array(x).astype(float)\n",
    "        self.y = np.array(y).astype(float)\n",
    "        self.n = len(x)\n",
    "        self.coefs = self.calculate_coefs2()\n",
    "        self.coefs_check = self.calculate_coefs()\n",
    "        assert (self.coefs == self.coefs_check).all() # ну чтоб уж точно\n",
    "\n",
    "    def calculate_coefs(self):\n",
    "        a = self.y.copy()\n",
    "        for j in range(1, self.n):\n",
    "            for i in range(self.n - 1, j - 1, -1):\n",
    "                a[i] = (a[i] - a[i - 1]) / (self.x[i] - self.x[i - j])\n",
    "        return a\n",
    "\n",
    "    def evaluate(self, r):\n",
    "        temp = self.coefs[self.n - 1]\n",
    "        for i in range(self.n - 2, -1, -1 ):\n",
    "            temp = temp * ( r - x[i] ) + self.coefs[i]\n",
    "        return temp\n",
    "\n",
    "    def plot(self):\n",
    "        fig, ax= plt.subplots()\n",
    "        ax.scatter(self.x, self.y, c='g')\n",
    "        # делаем сто точек от минимального до максимального значения (на равных расстояниях)\n",
    "        def_area = np.linspace(self.x.min(), self.x.max(), 100)\n",
    "        ax.plot(def_area, self.evaluate(def_area), c='r')\n",
    "        ax.grid(True)\n",
    "        plt.show()\n",
    "        \n",
    "    def calculate_coefs2(self):\n",
    "        x = self.x\n",
    "        y = self.y\n",
    "        n = np.shape(y)[0]\n",
    "        pyramid = np.zeros([n, n])\n",
    "        pyramid[::,0] = y\n",
    "        for j in range(1,n):\n",
    "            for i in range(n-j):\n",
    "                pyramid[i][j] = (pyramid[i+1][j-1] - pyramid[i][j-1]) / (x[i+j] - x[i])\n",
    "        return pyramid[0] "
   ]
  },
  {
   "cell_type": "code",
   "execution_count": 3,
   "metadata": {},
   "outputs": [],
   "source": [
    "def get_closest(arr, target, point, num_closest):\n",
    "    arr = np.array(arr)\n",
    "    dists = np.abs(arr - point)\n",
    "    sort = sorted(list(zip(dists, range(len(arr)))), key=lambda x: x[0])\n",
    "    inds = [sort[i][1] for i in range(num_closest)]\n",
    "    x = [arr[i] for i in inds]\n",
    "    y = [target[i] for i in inds]\n",
    "    return list(x), list(y)\n",
    "\n",
    "def f(x):\n",
    "    return np.sin(x)"
   ]
  },
  {
   "cell_type": "code",
   "execution_count": 4,
   "metadata": {},
   "outputs": [],
   "source": [
    "# sin derivatives\n",
    "first_deriv = lambda x: np.cos(x)\n",
    "second_deriv = lambda x: -np.sin(x)\n",
    "third_deriv = lambda x: -np.cos(x)\n",
    "forth_deriv = lambda x: np.sin(x)\n",
    "fifth_deriv = lambda x: np.cos(x)\n",
    "derivs = [first_deriv, second_deriv, third_deriv, forth_deriv, fifth_deriv]"
   ]
  },
  {
   "cell_type": "code",
   "execution_count": 5,
   "metadata": {},
   "outputs": [],
   "source": [
    "eval_point = -0.4\n",
    "# setattr(newton, 'get_closest', get_closest)"
   ]
  },
  {
   "cell_type": "code",
   "execution_count": 6,
   "metadata": {},
   "outputs": [
    {
     "name": "stdout",
     "output_type": "stream",
     "text": [
      "Theoretical_R_1: 0.0921060994002885\n",
      "Theoretical_R_2: 0.0023971276930210153\n",
      "Theoretical_R_3: 0.000318445496375202\n",
      "Theoretical_R_4: 9.410707889917257e-06\n"
     ]
    }
   ],
   "source": [
    "for i in range(4):\n",
    "    x = np.array([-0.6, -0.5, -0.3, -0.2, 0, 0.2]) # points\n",
    "    y = np.array([f(i) for i in x]) # f(x) for each point\n",
    "    x, y = get_closest(x, y, eval_point, i + 1) # closest i + 1 points\n",
    "\n",
    "    x_ = np.array(x + [eval_point]) # interval [c, d]\n",
    "    \n",
    "    assert len(x) == i + 1, (len(x), i + 1) # check that we actually have i + 1 nodes\n",
    "    def_area = np.linspace(x_.min(), x_.max(), 10000) # interval where function is defined\n",
    "    deriv_values = [np.abs(derivs[i](j)) for j in def_area] # deriv_i values for given interval [c, d]\n",
    "    differences_prod = np.prod(eval_point - np.array(x)) # product (eval_point - x_0)(eval_point - x_1) ...\n",
    "    \n",
    "    upper_bound = np.abs(differences_prod) * max(deriv_values) / factorial(i + 1)\n",
    "    print('Theoretical_R_{}:'.format(i + 1), upper_bound)"
   ]
  },
  {
   "cell_type": "code",
   "execution_count": 7,
   "metadata": {},
   "outputs": [
    {
     "name": "stdout",
     "output_type": "stream",
     "text": [
      "R_0: 0.09000719629555248\n",
      "R_1: 0.001945469675879219\n",
      "R_2: 0.00029977405098718934\n",
      "R_3: 6.479496638234217e-06\n"
     ]
    }
   ],
   "source": [
    "for i in range(1, 5): # берем 1-4 точки \n",
    "    x = np.array([-0.6, -0.5, -0.3, -0.2, 0, 0.2])\n",
    "    y = np.array([f(i) for i in x])\n",
    "    x, y = get_closest(x, y, eval_point, i)\n",
    "    # строим ньютона\n",
    "    newton = NewtonInterpolation(x, y)\n",
    "    # считаем значение многочлена в точке\n",
    "    ev_res = newton.evaluate(eval_point)\n",
    "\n",
    "    print('R_{}:'.format(i - 1), np.abs(ev_res - f(eval_point))) # |R_i|"
   ]
  },
  {
   "cell_type": "code",
   "execution_count": 8,
   "metadata": {},
   "outputs": [
    {
     "data": {
      "text/plain": [
       "array([-0.47942554,  0.91952666,  0.22452437, -0.15312677])"
      ]
     },
     "execution_count": 8,
     "metadata": {},
     "output_type": "execute_result"
    }
   ],
   "source": [
    "# коэф-ты. \n",
    "newton.coefs"
   ]
  },
  {
   "cell_type": "code",
   "execution_count": 9,
   "metadata": {},
   "outputs": [
    {
     "data": {
      "image/png": "[encoded data removed]",
      "text/plain": [
       "<Figure size 432x288 with 1 Axes>"
      ]
     },
     "metadata": {
      "needs_background": "light"
     },
     "output_type": "display_data"
    }
   ],
   "source": [
    "# графичек\n",
    "newton.plot()"
   ]
  },
  {
   "cell_type": "markdown",
   "metadata": {},
   "source": [
    "## Равностоящие узлы"
   ]
  },
  {
   "cell_type": "code",
   "execution_count": 10,
   "metadata": {},
   "outputs": [],
   "source": [
    "def fin_differences(y, n, first):\n",
    "    fdiffs = [y]\n",
    "    for cur_n in range(n):\n",
    "        cur_diffs = []\n",
    "        for i in range(1, len(y) - cur_n):\n",
    "            cur_diffs.append(fdiffs[-1][i] - fdiffs[-1][i-1])\n",
    "        fdiffs.append(cur_diffs)\n",
    "    if first: return [fdiffs[i][0] for i in range(len(fdiffs))]\n",
    "    return fdiffs"
   ]
  },
  {
   "cell_type": "code",
   "execution_count": 11,
   "metadata": {},
   "outputs": [],
   "source": [
    "def f(x): return np.sin(x)\n",
    "\n",
    "def get_Nk(t, k):\n",
    "    if k == 0: return 1\n",
    "    return get_Nk(t, k - 1) * (t - k + 1) / k\n",
    "\n",
    "def get_Pk(deltas_y0, t, max_k):\n",
    "    Nks = [get_Nk(t, k) for k in range(max_k + 1)]\n",
    "    assert len(deltas_y0) == len(Nks), (len(Nks), len(deltas_y0))\n",
    "    return sum([q * m for q, m in zip(deltas_y0, Nks)])"
   ]
  },
  {
   "cell_type": "code",
   "execution_count": 12,
   "metadata": {},
   "outputs": [],
   "source": [
    "# interval = [0.5, 1.5]\n",
    "a = 0.5\n",
    "b = 1.5\n",
    "h = 0.1\n",
    "x = np.linspace(a, b, int((b - a) / h)  + 1)\n",
    "y = [f(_x) for _x in x]\n",
    "eval_point = 0.55 \n",
    "# используем начало таблицы т к a < 0.55 < a + h/2"
   ]
  },
  {
   "cell_type": "code",
   "execution_count": 13,
   "metadata": {},
   "outputs": [],
   "source": [
    "n = 4\n",
    "t = (eval_point - a) / h\n",
    "# считаем основные показатели\n",
    "matrix = np.zeros(shape=(n + 1, 6))\n",
    "for k in range(n + 1):\n",
    "    # считаем разности \n",
    "    deltas_y0 = fin_differences(y, k, True)\n",
    "    delta_k_y0 = deltas_y0[-1]\n",
    "    \n",
    "    Nk = get_Nk(t, k)\n",
    "    Nk_delta_k_y0 = Nk * delta_k_y0\n",
    "    \n",
    "    Pk = get_Pk(deltas_y0, t, k)\n",
    "    \n",
    "    # считаем оценку погрешности\n",
    "    def_area = np.linspace(a, a+k*h, 10000) # interval where function is defined\n",
    "    M_k_plus_1 = max([np.abs(derivs[k](x)) for x in def_area])\n",
    "    N_k_plus_1 = get_Nk(t, k + 1)\n",
    "    th_R = np.abs(N_k_plus_1) * M_k_plus_1 * h ** (k + 1)\n",
    "    # записываем в матрицу\n",
    "    matrix[k] = np.array([delta_k_y0, Nk, Nk_delta_k_y0, Pk, f(eval_point) - Pk, th_R])"
   ]
  },
  {
   "cell_type": "code",
   "execution_count": 14,
   "metadata": {},
   "outputs": [
    {
     "data": {
      "text/html": [
       "<div>\n",
       "<style scoped>\n",
       "    .dataframe tbody tr th:only-of-type {\n",
       "        vertical-align: middle;\n",
       "    }\n",
       "\n",
       "    .dataframe tbody tr th {\n",
       "        vertical-align: top;\n",
       "    }\n",
       "\n",
       "    .dataframe thead th {\n",
       "        text-align: right;\n",
       "    }\n",
       "</style>\n",
       "<table border=\"1\" class=\"dataframe\">\n",
       "  <thead>\n",
       "    <tr style=\"text-align: right;\">\n",
       "      <th></th>\n",
       "      <th>0</th>\n",
       "      <th>1</th>\n",
       "      <th>2</th>\n",
       "      <th>3</th>\n",
       "      <th>4</th>\n",
       "    </tr>\n",
       "  </thead>\n",
       "  <tbody>\n",
       "    <tr>\n",
       "      <th>∆k*y0</th>\n",
       "      <td>0.479426</td>\n",
       "      <td>0.085217</td>\n",
       "      <td>-0.005642</td>\n",
       "      <td>-0.000795</td>\n",
       "      <td>6.431448e-05</td>\n",
       "    </tr>\n",
       "    <tr>\n",
       "      <th>N_k(t)</th>\n",
       "      <td>1.000000</td>\n",
       "      <td>0.500000</td>\n",
       "      <td>-0.125000</td>\n",
       "      <td>0.062500</td>\n",
       "      <td>-3.906250e-02</td>\n",
       "    </tr>\n",
       "    <tr>\n",
       "      <th>N_k*∆k*y0</th>\n",
       "      <td>0.479426</td>\n",
       "      <td>0.042608</td>\n",
       "      <td>0.000705</td>\n",
       "      <td>-0.000050</td>\n",
       "      <td>-2.512284e-06</td>\n",
       "    </tr>\n",
       "    <tr>\n",
       "      <th>P_k(0.55)</th>\n",
       "      <td>0.479426</td>\n",
       "      <td>0.522034</td>\n",
       "      <td>0.522739</td>\n",
       "      <td>0.522690</td>\n",
       "      <td>5.226870e-01</td>\n",
       "    </tr>\n",
       "    <tr>\n",
       "      <th>f(0.55) - P_k(0.55)</th>\n",
       "      <td>0.043262</td>\n",
       "      <td>0.000653</td>\n",
       "      <td>-0.000052</td>\n",
       "      <td>-0.000002</td>\n",
       "      <td>2.131739e-07</td>\n",
       "    </tr>\n",
       "    <tr>\n",
       "      <th>|R_k(0.55)| &lt;=</th>\n",
       "      <td>0.043879</td>\n",
       "      <td>0.000706</td>\n",
       "      <td>0.000055</td>\n",
       "      <td>0.000003</td>\n",
       "      <td>2.399640e-07</td>\n",
       "    </tr>\n",
       "  </tbody>\n",
       "</table>\n",
       "</div>"
      ],
      "text/plain": [
       "                            0         1         2         3             4\n",
       "∆k*y0                0.479426  0.085217 -0.005642 -0.000795  6.431448e-05\n",
       "N_k(t)               1.000000  0.500000 -0.125000  0.062500 -3.906250e-02\n",
       "N_k*∆k*y0            0.479426  0.042608  0.000705 -0.000050 -2.512284e-06\n",
       "P_k(0.55)            0.479426  0.522034  0.522739  0.522690  5.226870e-01\n",
       "f(0.55) - P_k(0.55)  0.043262  0.000653 -0.000052 -0.000002  2.131739e-07\n",
       "|R_k(0.55)| <=       0.043879  0.000706  0.000055  0.000003  2.399640e-07"
      ]
     },
     "execution_count": 14,
     "metadata": {},
     "output_type": "execute_result"
    }
   ],
   "source": [
    "index = ['∆k*y0', 'N_k(t)', 'N_k*∆k*y0',\n",
    "            f'P_k({eval_point})', f'f({eval_point}) - P_k({eval_point})',\n",
    "            f'|R_k({eval_point})| <=']\n",
    "pd.DataFrame(matrix.T, index=index)"
   ]
  },
  {
   "cell_type": "markdown",
   "metadata": {},
   "source": [
    "# Задача 2"
   ]
  },
  {
   "cell_type": "code",
   "execution_count": 15,
   "metadata": {},
   "outputs": [],
   "source": [
    "import sympy as sp\n",
    "from sympy import re, diff, Eq\n",
    "from sympy.plotting import plot_implicit"
   ]
  },
  {
   "cell_type": "code",
   "execution_count": 16,
   "metadata": {},
   "outputs": [
    {
     "data": {
      "text/plain": [
       "array([-0.47942554,  0.91952666,  0.22452437, -0.15312677, -0.01305764,\n",
       "        0.00806382])"
      ]
     },
     "execution_count": 16,
     "metadata": {},
     "output_type": "execute_result"
    }
   ],
   "source": [
    "def f(x): return np.sin(x)\n",
    "\n",
    "x = np.array([-0.6, -0.5, -0.3, -0.2, 0, 0.2])\n",
    "y = np.array([f(i) for i in x])\n",
    "eval_point = -0.4\n",
    "x, y = get_closest(x, y, eval_point, 6) # построим многочлен 5й степени\n",
    "\n",
    "newton = NewtonInterpolation(x, y)\n",
    "newton.coefs"
   ]
  },
  {
   "cell_type": "code",
   "execution_count": 17,
   "metadata": {},
   "outputs": [
    {
     "data": {
      "image/png": "[encoded data removed]",
      "text/plain": [
       "<Figure size 432x288 with 1 Axes>"
      ]
     },
     "metadata": {
      "needs_background": "light"
     },
     "output_type": "display_data"
    }
   ],
   "source": [
    "newton.plot()"
   ]
  },
  {
   "cell_type": "code",
   "execution_count": 18,
   "metadata": {},
   "outputs": [],
   "source": [
    "_x = sp.symbols('x')\n",
    "\n",
    "def get_newton_sp(x, y, _x, coefs):\n",
    "    # получаем многочлен ньютона в sympy (посчитанный ранее)\n",
    "    polynom = coefs[0]\n",
    "    prod = (_x - x[0])\n",
    "    for i in range(1, len(coefs)):\n",
    "        polynom += prod * coefs[i]\n",
    "        prod *= _x - x[i]\n",
    "    return polynom\n",
    "\n",
    "poly = get_newton_sp(x, y, _x, newton.coefs)"
   ]
  },
  {
   "cell_type": "code",
   "execution_count": 19,
   "metadata": {},
   "outputs": [],
   "source": [
    "true_value = -0.56\n",
    "true_point = np.arcsin(-0.56)"
   ]
  },
  {
   "cell_type": "code",
   "execution_count": 20,
   "metadata": {},
   "outputs": [],
   "source": [
    "roots = [root for root in sp.solve(true_value - poly) if  min(x) <= re(root) <= max(x)]\n",
    "assert len(roots) == 1 # иначе имеем больше одного корня на промежутке\n",
    "root = float(roots[0])\n",
    "estimation = float(poly.subs({_x : root}))"
   ]
  },
  {
   "cell_type": "code",
   "execution_count": 21,
   "metadata": {},
   "outputs": [
    {
     "data": {
      "text/html": [
       "<div>\n",
       "<style scoped>\n",
       "    .dataframe tbody tr th:only-of-type {\n",
       "        vertical-align: middle;\n",
       "    }\n",
       "\n",
       "    .dataframe tbody tr th {\n",
       "        vertical-align: top;\n",
       "    }\n",
       "\n",
       "    .dataframe thead th {\n",
       "        text-align: right;\n",
       "    }\n",
       "</style>\n",
       "<table border=\"1\" class=\"dataframe\">\n",
       "  <thead>\n",
       "    <tr style=\"text-align: right;\">\n",
       "      <th></th>\n",
       "      <th></th>\n",
       "    </tr>\n",
       "  </thead>\n",
       "  <tbody>\n",
       "    <tr>\n",
       "      <th>true point</th>\n",
       "      <td>-5.943858e-01</td>\n",
       "    </tr>\n",
       "    <tr>\n",
       "      <th>root</th>\n",
       "      <td>-5.943858e-01</td>\n",
       "    </tr>\n",
       "    <tr>\n",
       "      <th>error</th>\n",
       "      <td>-1.362085e-08</td>\n",
       "    </tr>\n",
       "    <tr>\n",
       "      <th>true value</th>\n",
       "      <td>-5.600000e-01</td>\n",
       "    </tr>\n",
       "    <tr>\n",
       "      <th>estimation</th>\n",
       "      <td>-5.600000e-01</td>\n",
       "    </tr>\n",
       "  </tbody>\n",
       "</table>\n",
       "</div>"
      ],
      "text/plain": [
       "                        \n",
       "true point -5.943858e-01\n",
       "root       -5.943858e-01\n",
       "error      -1.362085e-08\n",
       "true value -5.600000e-01\n",
       "estimation -5.600000e-01"
      ]
     },
     "execution_count": 21,
     "metadata": {},
     "output_type": "execute_result"
    }
   ],
   "source": [
    "pd.DataFrame([true_point, root, root - true_point, true_value, estimation],\n",
    "             index=['true point', 'root', 'error', 'true value', 'estimation'], columns=[''])"
   ]
  },
  {
   "cell_type": "markdown",
   "metadata": {},
   "source": [
    "# Задача 3"
   ]
  },
  {
   "cell_type": "code",
   "execution_count": 22,
   "metadata": {},
   "outputs": [],
   "source": [
    "# функция рунге\n",
    "def f(x): return 1/(1 + x**2)\n",
    "\n",
    "eval_point = 0.15\n",
    "n = 7\n",
    "x = [np.cos(np.pi * (2 * k + 1) / (2 * n)) for k in range(n)]\n",
    "y = [f(i) for i in x]"
   ]
  },
  {
   "cell_type": "code",
   "execution_count": 23,
   "metadata": {},
   "outputs": [
    {
     "data": {
      "text/plain": [
       "array([ 1.        , -0.3651436 , -0.84157013,  0.40835485,  0.06367081,\n",
       "       -0.26106856, -0.26778243])"
      ]
     },
     "execution_count": 23,
     "metadata": {},
     "output_type": "execute_result"
    }
   ],
   "source": [
    "# по неравностоящим узлам\n",
    "x, y = get_closest(x, y, eval_point, n) # построим многочлен (n-1)й степени по ближайшим n точкам\n",
    "newton = NewtonInterpolation(x, y)\n",
    "newton.coefs"
   ]
  },
  {
   "cell_type": "code",
   "execution_count": 24,
   "metadata": {},
   "outputs": [
    {
     "data": {
      "image/png": "[encoded data removed]",
      "text/plain": [
       "<Figure size 432x288 with 1 Axes>"
      ]
     },
     "metadata": {
      "needs_background": "light"
     },
     "output_type": "display_data"
    }
   ],
   "source": [
    "newton.plot()"
   ]
  },
  {
   "cell_type": "code",
   "execution_count": 25,
   "metadata": {},
   "outputs": [
    {
     "data": {
      "text/html": [
       "<div>\n",
       "<style scoped>\n",
       "    .dataframe tbody tr th:only-of-type {\n",
       "        vertical-align: middle;\n",
       "    }\n",
       "\n",
       "    .dataframe tbody tr th {\n",
       "        vertical-align: top;\n",
       "    }\n",
       "\n",
       "    .dataframe thead th {\n",
       "        text-align: right;\n",
       "    }\n",
       "</style>\n",
       "<table border=\"1\" class=\"dataframe\">\n",
       "  <thead>\n",
       "    <tr style=\"text-align: right;\">\n",
       "      <th></th>\n",
       "      <th>eval</th>\n",
       "      <th>Runge</th>\n",
       "      <th>error</th>\n",
       "    </tr>\n",
       "  </thead>\n",
       "  <tbody>\n",
       "    <tr>\n",
       "      <th>0</th>\n",
       "      <td>0.978529</td>\n",
       "      <td>0.977995</td>\n",
       "      <td>0.000534</td>\n",
       "    </tr>\n",
       "  </tbody>\n",
       "</table>\n",
       "</div>"
      ],
      "text/plain": [
       "       eval     Runge     error\n",
       "0  0.978529  0.977995  0.000534"
      ]
     },
     "execution_count": 25,
     "metadata": {},
     "output_type": "execute_result"
    }
   ],
   "source": [
    "pd.DataFrame({'eval': [newton.evaluate(eval_point)],\n",
    "              'Runge': [f(eval_point)],\n",
    "              'error': [np.abs(newton.evaluate(eval_point) - f(eval_point))]})"
   ]
  },
  {
   "cell_type": "code",
   "execution_count": 26,
   "metadata": {},
   "outputs": [],
   "source": [
    "# по равностоящим узлам\n",
    "a = -1\n",
    "b = 1\n",
    "h = (b - a) / (n - 1)\n",
    "x = np.linspace(a, b, n)\n",
    "y = [f(i) for i in x]\n",
    "t = (eval_point -  get_closest(x, y, eval_point, 1)[0][0]) / h"
   ]
  },
  {
   "cell_type": "code",
   "execution_count": 27,
   "metadata": {},
   "outputs": [
    {
     "data": {
      "text/plain": [
       "0.9782456581129807"
      ]
     },
     "execution_count": 27,
     "metadata": {},
     "output_type": "execute_result"
    }
   ],
   "source": [
    "deltas_y0 = fin_differences(y, n - 1, first=False)\n",
    "deltas_y0 = [deltas_y0[k][3 - k // 2] for k in range(n)]\n",
    "\n",
    "Nks = [1]\n",
    "for i in range(1, n):\n",
    "    Nks.append(Nks[-1] * (t - (-1)**i * (i // 2)) / i)\n",
    "\n",
    "estimation = sum([q * m for q, m in zip(Nks, deltas_y0)])\n",
    "estimation"
   ]
  },
  {
   "cell_type": "code",
   "execution_count": 28,
   "metadata": {},
   "outputs": [
    {
     "data": {
      "text/html": [
       "<div>\n",
       "<style scoped>\n",
       "    .dataframe tbody tr th:only-of-type {\n",
       "        vertical-align: middle;\n",
       "    }\n",
       "\n",
       "    .dataframe tbody tr th {\n",
       "        vertical-align: top;\n",
       "    }\n",
       "\n",
       "    .dataframe thead th {\n",
       "        text-align: right;\n",
       "    }\n",
       "</style>\n",
       "<table border=\"1\" class=\"dataframe\">\n",
       "  <thead>\n",
       "    <tr style=\"text-align: right;\">\n",
       "      <th></th>\n",
       "      <th>eval</th>\n",
       "      <th>Runge</th>\n",
       "      <th>error</th>\n",
       "    </tr>\n",
       "  </thead>\n",
       "  <tbody>\n",
       "    <tr>\n",
       "      <th>0</th>\n",
       "      <td>0.978246</td>\n",
       "      <td>0.977995</td>\n",
       "      <td>0.000251</td>\n",
       "    </tr>\n",
       "  </tbody>\n",
       "</table>\n",
       "</div>"
      ],
      "text/plain": [
       "       eval     Runge     error\n",
       "0  0.978246  0.977995  0.000251"
      ]
     },
     "execution_count": 28,
     "metadata": {},
     "output_type": "execute_result"
    }
   ],
   "source": [
    "pd.DataFrame({'eval': [estimation],\n",
    "              'Runge': [f(eval_point)],\n",
    "              'error': [np.abs(estimation - f(eval_point))]})"
   ]
  },
  {
   "cell_type": "markdown",
   "metadata": {},
   "source": [
    "# Задача 4"
   ]
  },
  {
   "cell_type": "code",
   "execution_count": 29,
   "metadata": {},
   "outputs": [],
   "source": [
    "def divided_diffs(nodes, values, max_order, first=True):\n",
    "    diffs = [values]\n",
    "    for order in range(max_order):\n",
    "        current_diffs = []\n",
    "        for i in range(1, len(nodes) - order):\n",
    "            try:\n",
    "                current_diffs.append((diffs[-1][i] - diffs[-1][i-1]) / (nodes[i + order] - nodes[i-1]))\n",
    "            except ZeroDivisionError:\n",
    "                #print('deriv', derivatives[order + 1][i - 1] / factorial(order), i, order)\n",
    "                current_diffs.append(derivatives[order + 1][i] / factorial(order + 1))\n",
    "        diffs.append(current_diffs)\n",
    "    if first: return [diffs[i][0] for i in range(len(diffs)) if diffs[i]]\n",
    "    return diffs"
   ]
  },
  {
   "cell_type": "code",
   "execution_count": 30,
   "metadata": {},
   "outputs": [],
   "source": [
    "x = [-1, 0] * 3\n",
    "y = [2, -2] * 3\n",
    "dy = [3, 3] * 3\n",
    "d2y = [6, -8] * 3\n",
    "# везде третий порядок "
   ]
  },
  {
   "cell_type": "code",
   "execution_count": 31,
   "metadata": {},
   "outputs": [],
   "source": [
    "inds = [m[0] for m in sorted(zip(range(len(x)), x), key=lambda x: x[1])]\n",
    "\n",
    "x = [x[i] for i in inds]\n",
    "y = [y[i] for i in inds]\n",
    "dy = [dy[i] for i in inds]\n",
    "d2y = [d2y[i] for i in inds]\n",
    "\n",
    "derivatives = [y, dy, d2y]"
   ]
  },
  {
   "cell_type": "code",
   "execution_count": 32,
   "metadata": {},
   "outputs": [
    {
     "data": {
      "text/latex": [
       "$\\displaystyle - 49.0 x^{2} \\left(x + 1\\right)^{3} + 24.0 x \\left(x + 1\\right)^{3} + 3.0 x - 10.0 \\left(x + 1\\right)^{3} + 3.0 \\left(x + 1\\right)^{2} + 5.0$"
      ],
      "text/plain": [
       "-49.0*x**2*(x + 1)**3 + 24.0*x*(x + 1)**3 + 3.0*x - 10.0*(x + 1)**3 + 3.0*(x + 1)**2 + 5.0"
      ]
     },
     "execution_count": 32,
     "metadata": {},
     "output_type": "execute_result"
    }
   ],
   "source": [
    "coefs =  divided_diffs(x, y, 5)\n",
    "poly = get_newton_sp(x, y, _x, coefs)\n",
    "poly"
   ]
  },
  {
   "cell_type": "code",
   "execution_count": 33,
   "metadata": {},
   "outputs": [
    {
     "name": "stdout",
     "output_type": "stream",
     "text": [
      "P(-1): 2.00000000000000\n",
      "P(0): -2.00000000000000\n"
     ]
    }
   ],
   "source": [
    "# проверка точек \n",
    "print('P(-1):', poly.subs({_x: -1}))\n",
    "print('P(0):', poly.subs({_x: 0}))"
   ]
  },
  {
   "cell_type": "code",
   "execution_count": 34,
   "metadata": {},
   "outputs": [
    {
     "name": "stdout",
     "output_type": "stream",
     "text": [
      "dy0: 3.00000000000000\n",
      "d2y0: 6.00000000000000\n",
      "dy1: 3.00000000000000\n",
      "d2y1: -8.00000000000000\n"
     ]
    }
   ],
   "source": [
    "# проверка производных\n",
    "print('dy0:', diff(poly).subs({_x: -1}))\n",
    "print('d2y0:', diff(diff(poly)).subs({_x: -1}))\n",
    "print('dy1:', diff(poly).subs({_x: 0}))\n",
    "print('d2y1:', diff(diff(poly)).subs({_x: 0}))"
   ]
  },
  {
   "cell_type": "markdown",
   "metadata": {},
   "source": [
    "# Задача 5"
   ]
  },
  {
   "cell_type": "markdown",
   "metadata": {},
   "source": [
    "## 1\n",
    "\n",
    "$$f'(x_i) = \\frac{y_{i+1} - y_i}{h} + O(h)$$ – формула **(1а)**\n",
    "\n",
    "\n",
    "$$f'(x_i) = \\frac{y_{i+1} - y_{i-1}}{2h} + O(h^2)$$ – формула **(3а)**\n",
    "\n",
    "$$f''(x_i) = \\frac{y_{i+1} - 2y_i + y_{i-1}}{h^2} + O(h^2)$$ – формула **(6a)**"
   ]
  },
  {
   "cell_type": "code",
   "execution_count": 35,
   "metadata": {},
   "outputs": [],
   "source": [
    "f = lambda x: np.exp(2 * x)\n",
    "a = 0\n",
    "b = 2\n",
    "h = 0.1 \n",
    "eval_point = 1.0\n",
    "x = np.linspace(a, b, int((b - a) / h + 1))\n",
    "y = [f(i) for i in x]"
   ]
  },
  {
   "cell_type": "code",
   "execution_count": 36,
   "metadata": {},
   "outputs": [
    {
     "data": {
      "image/png": "[encoded data removed]",
      "text/plain": [
       "<Figure size 432x288 with 1 Axes>"
      ]
     },
     "metadata": {
      "needs_background": "light"
     },
     "output_type": "display_data"
    }
   ],
   "source": [
    "import matplotlib.pyplot as plt\n",
    "plt.plot(x, y)\n",
    "plt.show()"
   ]
  },
  {
   "cell_type": "code",
   "execution_count": 37,
   "metadata": {},
   "outputs": [],
   "source": [
    "def first_order_deriv_1(x, y, h):\n",
    "    return np.array([(y[i] - y[i - 1]) / h for i in range(1, len(x))] + [0])\n",
    "\n",
    "def first_order_deriv_2(x, y, h):\n",
    "    return np.array([0] + [(y[i] - y[i - 2]) / (2*h) for i in range(2, len(x))] + [0])\n",
    "\n",
    "def second_order_deriv(x, y, h):\n",
    "    return np.array([0] + [(y[i+1] - 2 * y[i] + y[i - 1]) / (h ** 2)\n",
    "                           for i in range(1, len(x) - 1)] + [0])\n",
    "\n",
    "def true_first_order_deriv(x):\n",
    "    # (exp(2x))' = 2 * exp(2x)\n",
    "    return np.array([2 * np.exp(2 * p) for p in x])\n",
    "\n",
    "def true_second_order_deriv(x):\n",
    "    return np.array([4 * np.exp(2 * p) for p in x])"
   ]
  },
  {
   "cell_type": "code",
   "execution_count": 38,
   "metadata": {},
   "outputs": [],
   "source": [
    "def compute(x, y, h, return_df=True):\n",
    "    fod_values_1 = first_order_deriv_1(x, y, h)\n",
    "    fod_values_2 = first_order_deriv_2(x, y, h)\n",
    "    sod_values_2 = second_order_deriv(x, y, h)\n",
    "    td_values_1 = true_first_order_deriv(x)\n",
    "    td_values_2 = true_second_order_deriv(x)\n",
    "    # O(h)\n",
    "    error_1 = td_values_1 - fod_values_1\n",
    "    # O(h^2)\n",
    "    error_2 = td_values_1 - fod_values_2\n",
    "    # O(h^2)\n",
    "    second_error_2 = td_values_2 - sod_values_2\n",
    "\n",
    "    df_dict = {'x': x, 'f(x)': y, \"f'\": td_values_1, \"~f'\": fod_values_1, \"O(h)\": error_1,\n",
    "               \"~~f'\": fod_values_2, \"O(h^2)\": error_2, 'f\"': td_values_2, '~f\"': sod_values_2,\n",
    "               'O(h^2)_2': second_error_2 }\n",
    "    \n",
    "    df = pd.DataFrame(df_dict).iloc[1:-1]\n",
    "    if return_df:\n",
    "        return df\n",
    "    # возвращаем только нужную ошибку для eval_point\n",
    "    return df[df.x == eval_point].iloc[0]['O(h^2)']"
   ]
  },
  {
   "cell_type": "code",
   "execution_count": 39,
   "metadata": {},
   "outputs": [
    {
     "data": {
      "text/html": [
       "<div>\n",
       "<style scoped>\n",
       "    .dataframe tbody tr th:only-of-type {\n",
       "        vertical-align: middle;\n",
       "    }\n",
       "\n",
       "    .dataframe tbody tr th {\n",
       "        vertical-align: top;\n",
       "    }\n",
       "\n",
       "    .dataframe thead th {\n",
       "        text-align: right;\n",
       "    }\n",
       "</style>\n",
       "<table border=\"1\" class=\"dataframe\">\n",
       "  <thead>\n",
       "    <tr style=\"text-align: right;\">\n",
       "      <th></th>\n",
       "      <th>x</th>\n",
       "      <th>f(x)</th>\n",
       "      <th>f'</th>\n",
       "      <th>~f'</th>\n",
       "      <th>O(h)</th>\n",
       "      <th>~~f'</th>\n",
       "      <th>O(h^2)</th>\n",
       "      <th>f\"</th>\n",
       "      <th>~f\"</th>\n",
       "      <th>O(h^2)_2</th>\n",
       "    </tr>\n",
       "  </thead>\n",
       "  <tbody>\n",
       "    <tr>\n",
       "      <th>1</th>\n",
       "      <td>0.1</td>\n",
       "      <td>1.221403</td>\n",
       "      <td>2.442806</td>\n",
       "      <td>2.704219</td>\n",
       "      <td>-0.261414</td>\n",
       "      <td>2.459123</td>\n",
       "      <td>-0.016318</td>\n",
       "      <td>4.885611</td>\n",
       "      <td>4.901918</td>\n",
       "      <td>-0.016307</td>\n",
       "    </tr>\n",
       "    <tr>\n",
       "      <th>2</th>\n",
       "      <td>0.2</td>\n",
       "      <td>1.491825</td>\n",
       "      <td>2.983649</td>\n",
       "      <td>3.302941</td>\n",
       "      <td>-0.319292</td>\n",
       "      <td>3.003580</td>\n",
       "      <td>-0.019931</td>\n",
       "      <td>5.967299</td>\n",
       "      <td>5.987216</td>\n",
       "      <td>-0.019918</td>\n",
       "    </tr>\n",
       "    <tr>\n",
       "      <th>3</th>\n",
       "      <td>0.3</td>\n",
       "      <td>1.822119</td>\n",
       "      <td>3.644238</td>\n",
       "      <td>4.034221</td>\n",
       "      <td>-0.389984</td>\n",
       "      <td>3.668581</td>\n",
       "      <td>-0.024344</td>\n",
       "      <td>7.288475</td>\n",
       "      <td>7.312803</td>\n",
       "      <td>-0.024327</td>\n",
       "    </tr>\n",
       "    <tr>\n",
       "      <th>4</th>\n",
       "      <td>0.4</td>\n",
       "      <td>2.225541</td>\n",
       "      <td>4.451082</td>\n",
       "      <td>4.927409</td>\n",
       "      <td>-0.476327</td>\n",
       "      <td>4.480815</td>\n",
       "      <td>-0.029733</td>\n",
       "      <td>8.902164</td>\n",
       "      <td>8.931877</td>\n",
       "      <td>-0.029713</td>\n",
       "    </tr>\n",
       "    <tr>\n",
       "      <th>5</th>\n",
       "      <td>0.5</td>\n",
       "      <td>2.718282</td>\n",
       "      <td>5.436564</td>\n",
       "      <td>6.018351</td>\n",
       "      <td>-0.581787</td>\n",
       "      <td>5.472880</td>\n",
       "      <td>-0.036316</td>\n",
       "      <td>10.873127</td>\n",
       "      <td>10.909419</td>\n",
       "      <td>-0.036292</td>\n",
       "    </tr>\n",
       "    <tr>\n",
       "      <th>6</th>\n",
       "      <td>0.6</td>\n",
       "      <td>3.320117</td>\n",
       "      <td>6.640234</td>\n",
       "      <td>7.350830</td>\n",
       "      <td>-0.710597</td>\n",
       "      <td>6.684591</td>\n",
       "      <td>-0.044357</td>\n",
       "      <td>13.280468</td>\n",
       "      <td>13.324795</td>\n",
       "      <td>-0.044327</td>\n",
       "    </tr>\n",
       "    <tr>\n",
       "      <th>7</th>\n",
       "      <td>0.7</td>\n",
       "      <td>4.055200</td>\n",
       "      <td>8.110400</td>\n",
       "      <td>8.978325</td>\n",
       "      <td>-0.867925</td>\n",
       "      <td>8.164578</td>\n",
       "      <td>-0.054178</td>\n",
       "      <td>16.220800</td>\n",
       "      <td>16.274941</td>\n",
       "      <td>-0.054141</td>\n",
       "    </tr>\n",
       "    <tr>\n",
       "      <th>8</th>\n",
       "      <td>0.8</td>\n",
       "      <td>4.953032</td>\n",
       "      <td>9.906065</td>\n",
       "      <td>10.966150</td>\n",
       "      <td>-1.060086</td>\n",
       "      <td>9.972237</td>\n",
       "      <td>-0.066173</td>\n",
       "      <td>19.812130</td>\n",
       "      <td>19.878258</td>\n",
       "      <td>-0.066129</td>\n",
       "    </tr>\n",
       "    <tr>\n",
       "      <th>9</th>\n",
       "      <td>0.9</td>\n",
       "      <td>6.049647</td>\n",
       "      <td>12.099295</td>\n",
       "      <td>13.394086</td>\n",
       "      <td>-1.294791</td>\n",
       "      <td>12.180118</td>\n",
       "      <td>-0.080823</td>\n",
       "      <td>24.198590</td>\n",
       "      <td>24.279359</td>\n",
       "      <td>-0.080770</td>\n",
       "    </tr>\n",
       "    <tr>\n",
       "      <th>10</th>\n",
       "      <td>1.0</td>\n",
       "      <td>7.389056</td>\n",
       "      <td>14.778112</td>\n",
       "      <td>16.359574</td>\n",
       "      <td>-1.581462</td>\n",
       "      <td>14.876830</td>\n",
       "      <td>-0.098718</td>\n",
       "      <td>29.556224</td>\n",
       "      <td>29.654877</td>\n",
       "      <td>-0.098652</td>\n",
       "    </tr>\n",
       "    <tr>\n",
       "      <th>11</th>\n",
       "      <td>1.1</td>\n",
       "      <td>9.025013</td>\n",
       "      <td>18.050027</td>\n",
       "      <td>19.981629</td>\n",
       "      <td>-1.931602</td>\n",
       "      <td>18.170601</td>\n",
       "      <td>-0.120574</td>\n",
       "      <td>36.100054</td>\n",
       "      <td>36.220548</td>\n",
       "      <td>-0.120494</td>\n",
       "    </tr>\n",
       "    <tr>\n",
       "      <th>12</th>\n",
       "      <td>1.2</td>\n",
       "      <td>11.023176</td>\n",
       "      <td>22.046353</td>\n",
       "      <td>24.405617</td>\n",
       "      <td>-2.359264</td>\n",
       "      <td>22.193623</td>\n",
       "      <td>-0.147270</td>\n",
       "      <td>44.092706</td>\n",
       "      <td>44.239877</td>\n",
       "      <td>-0.147172</td>\n",
       "    </tr>\n",
       "    <tr>\n",
       "      <th>13</th>\n",
       "      <td>1.3</td>\n",
       "      <td>13.463738</td>\n",
       "      <td>26.927476</td>\n",
       "      <td>29.809087</td>\n",
       "      <td>-2.881611</td>\n",
       "      <td>27.107352</td>\n",
       "      <td>-0.179876</td>\n",
       "      <td>53.854952</td>\n",
       "      <td>54.034708</td>\n",
       "      <td>-0.179756</td>\n",
       "    </tr>\n",
       "    <tr>\n",
       "      <th>14</th>\n",
       "      <td>1.4</td>\n",
       "      <td>16.444647</td>\n",
       "      <td>32.889294</td>\n",
       "      <td>36.408902</td>\n",
       "      <td>-3.519608</td>\n",
       "      <td>33.108994</td>\n",
       "      <td>-0.219701</td>\n",
       "      <td>65.778587</td>\n",
       "      <td>65.998142</td>\n",
       "      <td>-0.219555</td>\n",
       "    </tr>\n",
       "    <tr>\n",
       "      <th>15</th>\n",
       "      <td>1.5</td>\n",
       "      <td>20.085537</td>\n",
       "      <td>40.171074</td>\n",
       "      <td>44.469933</td>\n",
       "      <td>-4.298859</td>\n",
       "      <td>40.439417</td>\n",
       "      <td>-0.268343</td>\n",
       "      <td>80.342148</td>\n",
       "      <td>80.610312</td>\n",
       "      <td>-0.268164</td>\n",
       "    </tr>\n",
       "    <tr>\n",
       "      <th>16</th>\n",
       "      <td>1.6</td>\n",
       "      <td>24.532530</td>\n",
       "      <td>49.065060</td>\n",
       "      <td>54.315699</td>\n",
       "      <td>-5.250638</td>\n",
       "      <td>49.392816</td>\n",
       "      <td>-0.327755</td>\n",
       "      <td>98.130121</td>\n",
       "      <td>98.457658</td>\n",
       "      <td>-0.327537</td>\n",
       "    </tr>\n",
       "    <tr>\n",
       "      <th>17</th>\n",
       "      <td>1.7</td>\n",
       "      <td>29.964100</td>\n",
       "      <td>59.928200</td>\n",
       "      <td>66.341344</td>\n",
       "      <td>-6.413144</td>\n",
       "      <td>60.328521</td>\n",
       "      <td>-0.400321</td>\n",
       "      <td>119.856400</td>\n",
       "      <td>120.256455</td>\n",
       "      <td>-0.400054</td>\n",
       "    </tr>\n",
       "    <tr>\n",
       "      <th>18</th>\n",
       "      <td>1.8</td>\n",
       "      <td>36.598234</td>\n",
       "      <td>73.196469</td>\n",
       "      <td>81.029500</td>\n",
       "      <td>-7.833032</td>\n",
       "      <td>73.685422</td>\n",
       "      <td>-0.488953</td>\n",
       "      <td>146.392938</td>\n",
       "      <td>146.881565</td>\n",
       "      <td>-0.488628</td>\n",
       "    </tr>\n",
       "    <tr>\n",
       "      <th>19</th>\n",
       "      <td>1.9</td>\n",
       "      <td>44.701184</td>\n",
       "      <td>89.402369</td>\n",
       "      <td>98.969655</td>\n",
       "      <td>-9.567286</td>\n",
       "      <td>89.999578</td>\n",
       "      <td>-0.597209</td>\n",
       "      <td>178.804738</td>\n",
       "      <td>179.401549</td>\n",
       "      <td>-0.596811</td>\n",
       "    </tr>\n",
       "  </tbody>\n",
       "</table>\n",
       "</div>"
      ],
      "text/plain": [
       "      x       f(x)         f'        ~f'      O(h)       ~~f'    O(h^2)  \\\n",
       "1   0.1   1.221403   2.442806   2.704219 -0.261414   2.459123 -0.016318   \n",
       "2   0.2   1.491825   2.983649   3.302941 -0.319292   3.003580 -0.019931   \n",
       "3   0.3   1.822119   3.644238   4.034221 -0.389984   3.668581 -0.024344   \n",
       "4   0.4   2.225541   4.451082   4.927409 -0.476327   4.480815 -0.029733   \n",
       "5   0.5   2.718282   5.436564   6.018351 -0.581787   5.472880 -0.036316   \n",
       "6   0.6   3.320117   6.640234   7.350830 -0.710597   6.684591 -0.044357   \n",
       "7   0.7   4.055200   8.110400   8.978325 -0.867925   8.164578 -0.054178   \n",
       "8   0.8   4.953032   9.906065  10.966150 -1.060086   9.972237 -0.066173   \n",
       "9   0.9   6.049647  12.099295  13.394086 -1.294791  12.180118 -0.080823   \n",
       "10  1.0   7.389056  14.778112  16.359574 -1.581462  14.876830 -0.098718   \n",
       "11  1.1   9.025013  18.050027  19.981629 -1.931602  18.170601 -0.120574   \n",
       "12  1.2  11.023176  22.046353  24.405617 -2.359264  22.193623 -0.147270   \n",
       "13  1.3  13.463738  26.927476  29.809087 -2.881611  27.107352 -0.179876   \n",
       "14  1.4  16.444647  32.889294  36.408902 -3.519608  33.108994 -0.219701   \n",
       "15  1.5  20.085537  40.171074  44.469933 -4.298859  40.439417 -0.268343   \n",
       "16  1.6  24.532530  49.065060  54.315699 -5.250638  49.392816 -0.327755   \n",
       "17  1.7  29.964100  59.928200  66.341344 -6.413144  60.328521 -0.400321   \n",
       "18  1.8  36.598234  73.196469  81.029500 -7.833032  73.685422 -0.488953   \n",
       "19  1.9  44.701184  89.402369  98.969655 -9.567286  89.999578 -0.597209   \n",
       "\n",
       "            f\"         ~f\"  O(h^2)_2  \n",
       "1     4.885611    4.901918 -0.016307  \n",
       "2     5.967299    5.987216 -0.019918  \n",
       "3     7.288475    7.312803 -0.024327  \n",
       "4     8.902164    8.931877 -0.029713  \n",
       "5    10.873127   10.909419 -0.036292  \n",
       "6    13.280468   13.324795 -0.044327  \n",
       "7    16.220800   16.274941 -0.054141  \n",
       "8    19.812130   19.878258 -0.066129  \n",
       "9    24.198590   24.279359 -0.080770  \n",
       "10   29.556224   29.654877 -0.098652  \n",
       "11   36.100054   36.220548 -0.120494  \n",
       "12   44.092706   44.239877 -0.147172  \n",
       "13   53.854952   54.034708 -0.179756  \n",
       "14   65.778587   65.998142 -0.219555  \n",
       "15   80.342148   80.610312 -0.268164  \n",
       "16   98.130121   98.457658 -0.327537  \n",
       "17  119.856400  120.256455 -0.400054  \n",
       "18  146.392938  146.881565 -0.488628  \n",
       "19  178.804738  179.401549 -0.596811  "
      ]
     },
     "execution_count": 39,
     "metadata": {},
     "output_type": "execute_result"
    }
   ],
   "source": [
    "compute(x, y, h)"
   ]
  },
  {
   "cell_type": "markdown",
   "metadata": {},
   "source": [
    "## 2"
   ]
  },
  {
   "cell_type": "code",
   "execution_count": 40,
   "metadata": {},
   "outputs": [
    {
     "name": "stdout",
     "output_type": "stream",
     "text": [
      "Ошибка 1.8811974200616532e-10 получена после 17 итераций\n",
      "Получившийся шаг 1.52587890625e-06\n"
     ]
    }
   ],
   "source": [
    "factor = 1.0 # фактор для h (уменьшаем в 2 раза постепенно)\n",
    "min_error = float('inf') # минимальная полученная ошибка\n",
    "iters = 0 # счетчик итераций\n",
    "limit = 100 # максимальное число итераций\n",
    "while iters < limit:\n",
    "    iters += 1\n",
    "    # update data\n",
    "    x = np.linspace(a, b, int((b - a) / (h * factor) + 1))\n",
    "    y = [f(i) for i in x]\n",
    "    # calculate O(h^2) error for 3rd formula\n",
    "    cur_error = np.abs(compute(x, y, h * factor, False)) # получаем O(h^2) для точки eval_point\n",
    "\n",
    "    if cur_error < min_error:\n",
    "        min_error = cur_error\n",
    "        # update factor\n",
    "        factor *= 0.5\n",
    "        continue\n",
    "    # if current error is greater than minimum error – break\n",
    "    break\n",
    "    \n",
    "print('Ошибка {} получена после {} итераций'.format(min_error, iters))\n",
    "print('Получившийся шаг {}'.format(h * factor))"
   ]
  },
  {
   "cell_type": "markdown",
   "metadata": {},
   "source": [
    "## 3"
   ]
  },
  {
   "cell_type": "code",
   "execution_count": 41,
   "metadata": {},
   "outputs": [
    {
     "data": {
      "text/plain": [
       "array([ 7.3890561 , 13.39408635, 14.8274383 ,  8.95919525])"
      ]
     },
     "execution_count": 41,
     "metadata": {},
     "output_type": "execute_result"
    }
   ],
   "source": [
    "f = lambda x: np.exp(2 * x)\n",
    "a = 0\n",
    "b = 2\n",
    "h = 0.1 \n",
    "eval_point = 1.0\n",
    "x = np.linspace(a, b, int((b - a) / h + 1))\n",
    "y = [f(i) for i in x]\n",
    "x, y = get_closest(x, y, eval_point, 4)\n",
    "newton = NewtonInterpolation(x, y)\n",
    "newton.coefs"
   ]
  },
  {
   "cell_type": "code",
   "execution_count": 42,
   "metadata": {},
   "outputs": [
    {
     "data": {
      "image/png": "[encoded data removed]",
      "text/plain": [
       "<Figure size 432x288 with 1 Axes>"
      ]
     },
     "metadata": {
      "needs_background": "light"
     },
     "output_type": "display_data"
    }
   ],
   "source": [
    "newton.plot()"
   ]
  },
  {
   "cell_type": "code",
   "execution_count": 43,
   "metadata": {},
   "outputs": [],
   "source": [
    "_x = sp.symbols('x')\n",
    "\n",
    "def get_newton_sp(x, y, _x, coefs):\n",
    "    # получаем многочлен ньютона в sympy (посчитанный ранее)\n",
    "    polynom = coefs[0]\n",
    "    prod = (_x - x[0])\n",
    "    for i in range(1, len(coefs)):\n",
    "        polynom += prod * coefs[i]\n",
    "        prod *= _x - x[i]\n",
    "    return polynom\n",
    "\n",
    "poly = get_newton_sp(x, y, _x, newton.coefs)"
   ]
  },
  {
   "cell_type": "code",
   "execution_count": 44,
   "metadata": {},
   "outputs": [
    {
     "data": {
      "text/latex": [
       "$\\displaystyle 14.7872382226294$"
      ],
      "text/plain": [
       "14.7872382226294"
      ]
     },
     "execution_count": 44,
     "metadata": {},
     "output_type": "execute_result"
    }
   ],
   "source": [
    "# настоящее значение производной приведено в таблице выше (eval_point = 1)\n",
    "diff(poly).subs({_x: eval_point})"
   ]
  },
  {
   "cell_type": "markdown",
   "metadata": {},
   "source": [
    "# Задача 6"
   ]
  },
  {
   "cell_type": "markdown",
   "metadata": {},
   "source": [
    "## 1\n",
    "\n",
    "\n",
    "$$\\int_0^1 cos(x)\\sqrt{x}dx \\approx 0.531203$$ – wolfram"
   ]
  },
  {
   "cell_type": "markdown",
   "metadata": {},
   "source": [
    "## 2\n"
   ]
  },
  {
   "cell_type": "code",
   "execution_count": 45,
   "metadata": {},
   "outputs": [],
   "source": [
    "f = lambda p: np.cos(p) * np.sqrt(p)\n",
    "a = 0\n",
    "b = 1\n",
    "N = 1 # 2N + 1 – количество узлов (=3)\n",
    "h = (b - a) / (2 * N)\n",
    "x = np.linspace(a, b, int((b - a) / h) + 1)\n",
    "y = [f(p) for p in x]"
   ]
  },
  {
   "cell_type": "code",
   "execution_count": 46,
   "metadata": {},
   "outputs": [
    {
     "data": {
      "text/plain": [
       "0.5037467713538537"
      ]
     },
     "execution_count": 46,
     "metadata": {},
     "output_type": "execute_result"
    }
   ],
   "source": [
    "simpson3nodes = (b - a) / (6*N) * (y[0] + 4 * y[1] + y[2])\n",
    "simpson3nodes"
   ]
  },
  {
   "cell_type": "markdown",
   "metadata": {},
   "source": [
    "## 3"
   ]
  },
  {
   "cell_type": "code",
   "execution_count": 47,
   "metadata": {},
   "outputs": [
    {
     "data": {
      "text/plain": [
       "0.5319342652657193"
      ]
     },
     "execution_count": 47,
     "metadata": {},
     "output_type": "execute_result"
    }
   ],
   "source": [
    "# считаем моменты\n",
    "f = lambda m: np.cos(m)\n",
    "p = lambda m: np.sqrt(m)\n",
    "x = [0, 0.5, 1]\n",
    "y = [f(p) for p in x]\n",
    "# wolfram\n",
    "mu0 = 0.6667\n",
    "mu1 = 0.4\n",
    "mu2 = 0.28571\n",
    "# wolfram\n",
    "A1 = 0.03812\n",
    "A2 = 0.45716\n",
    "A3 = 0.17142\n",
    "\n",
    "weighted_interpolation = sum([q * m for q, m in zip([A1, A2, A3], y)])\n",
    "weighted_interpolation"
   ]
  },
  {
   "cell_type": "markdown",
   "metadata": {},
   "source": [
    "\n",
    "## 4"
   ]
  },
  {
   "cell_type": "code",
   "execution_count": 48,
   "metadata": {},
   "outputs": [],
   "source": [
    "n = 2 # будет 2 узла"
   ]
  },
  {
   "cell_type": "code",
   "execution_count": 49,
   "metadata": {},
   "outputs": [],
   "source": [
    "def Legendre(n):\n",
    "    if n == 0: return 1\n",
    "    if n == 1: return _x\n",
    "    return (2*n - 1)/n * _x * Legendre(n-1) - (n-1)/n * Legendre(n-2)\n",
    "\n",
    "def getAk(k, poly):\n",
    "    return 2 * (1 - t[k]**2) / (n**2 * poly.subs({_x: t[k]})**2)"
   ]
  },
  {
   "cell_type": "code",
   "execution_count": 50,
   "metadata": {},
   "outputs": [
    {
     "data": {
      "text/plain": [
       "([1.00000000000000, 1.00000000000000], [-0.577350269189626, 0.577350269189626])"
      ]
     },
     "execution_count": 50,
     "metadata": {},
     "output_type": "execute_result"
    }
   ],
   "source": [
    "t = sp.solve(Legendre(n))\n",
    "poly = Legendre(n - 1)\n",
    "Ak = [getAk(k, poly) for k in range(n)]\n",
    "Ak, t"
   ]
  },
  {
   "cell_type": "code",
   "execution_count": 51,
   "metadata": {},
   "outputs": [
    {
     "name": "stdout",
     "output_type": "stream",
     "text": [
      "0.500000000000000\n"
     ]
    }
   ],
   "source": [
    "new_x = [(b - a) / 2 * t[k] + (b + a)/ 2 for k in range(len(t))]\n",
    "gauss = (b - a) / 2 * sum([q*m for q, m in zip(Ak, new_x)]) \n",
    "print(gauss)"
   ]
  },
  {
   "cell_type": "markdown",
   "metadata": {},
   "source": [
    "## 5"
   ]
  },
  {
   "cell_type": "code",
   "execution_count": 52,
   "metadata": {},
   "outputs": [
    {
     "data": {
      "text/plain": [
       "0.5366662914191878"
      ]
     },
     "execution_count": 52,
     "metadata": {},
     "output_type": "execute_result"
    }
   ],
   "source": [
    "mu3 = 0.0625\n",
    "a0 = -1.85777\n",
    "a1 = 2.38217\n",
    "w = _x ** 2 + a1 * _x + a0\n",
    "\n",
    "roots = sp.solve(w)\n",
    "\n",
    "A1 = 0.00350692\n",
    "A2 = 0.663193\n",
    "y = [f(float(m)) for m in roots]\n",
    "\n",
    "gauss_type_two_nodes = sum([q * m for q, m in zip([A1, A2], y)])\n",
    "gauss_type_two_nodes"
   ]
  },
  {
   "cell_type": "markdown",
   "metadata": {},
   "source": [
    "# Задача 7\n",
    "\n",
    "$$\\begin{cases} \\sin(x-0.5y) - x + y^2 = 0 \\\\ (y+0.1)^2+x^2=0.6 \\end{cases}$$\n",
    "\n"
   ]
  },
  {
   "cell_type": "code",
   "execution_count": 53,
   "metadata": {},
   "outputs": [],
   "source": [
    "_x = sp.symbols('x')\n",
    "_y = sp.symbols('y')"
   ]
  },
  {
   "cell_type": "code",
   "execution_count": 54,
   "metadata": {},
   "outputs": [],
   "source": [
    "f = sp.sin(_x - 0.5*_y ) - _x + _y**2\n",
    "g = (_y + 0.1)**2 + _x**2 - 0.6"
   ]
  },
  {
   "cell_type": "code",
   "execution_count": 55,
   "metadata": {},
   "outputs": [],
   "source": [
    "dfx = diff(f, 'x')\n",
    "dfy = diff(f, 'y')\n",
    "dgx = diff(g, 'x')\n",
    "dgy = diff(g, 'y')\n",
    "\n",
    "d = dfx * dgy - dfy * dgx \n",
    "dx = f * dgy - g * dfy\n",
    "dy = dfx * g - dgx * f"
   ]
  },
  {
   "cell_type": "code",
   "execution_count": 56,
   "metadata": {},
   "outputs": [
    {
     "name": "stdout",
     "output_type": "stream",
     "text": [
      "Заданная точность достигнута за 6 итераций\n",
      "0.484766189555101 0.504153739924088\n"
     ]
    }
   ],
   "source": [
    "kmax = 5000\n",
    "# начальная точка\n",
    "x0 = 3\n",
    "y0 = 1\n",
    "eps = 0.00001\n",
    "rows = []\n",
    "for k in range(kmax):\n",
    "    updx = (dx / d).subs({_x: x0, _y: y0})\n",
    "    updy = (dy / d).subs({_x: x0, _y: y0})\n",
    "    norm = np.linalg.norm([float(updx), float(updy)])\n",
    "    x0 -= updx\n",
    "    y0 -= updy\n",
    "    rows.append([x0, y0, norm, f.subs({_x: x0, _y: y0}), g.subs({_x: x0, _y: y0})])\n",
    "    if norm < eps:\n",
    "        print('Заданная точность достигнута за {} итераций'.format(k))\n",
    "        break\n",
    "\n",
    "\n",
    "print(x0, y0)"
   ]
  },
  {
   "cell_type": "code",
   "execution_count": 57,
   "metadata": {},
   "outputs": [
    {
     "data": {
      "text/html": [
       "<div>\n",
       "<style scoped>\n",
       "    .dataframe tbody tr th:only-of-type {\n",
       "        vertical-align: middle;\n",
       "    }\n",
       "\n",
       "    .dataframe tbody tr th {\n",
       "        vertical-align: top;\n",
       "    }\n",
       "\n",
       "    .dataframe thead th {\n",
       "        text-align: right;\n",
       "    }\n",
       "</style>\n",
       "<table border=\"1\" class=\"dataframe\">\n",
       "  <thead>\n",
       "    <tr style=\"text-align: right;\">\n",
       "      <th></th>\n",
       "      <th>xk</th>\n",
       "      <th>yk</th>\n",
       "      <th>||((xk − xk−1),(yk −yk−1))||</th>\n",
       "      <th>f(xk,yk)</th>\n",
       "      <th>g(xk,yk)</th>\n",
       "    </tr>\n",
       "  </thead>\n",
       "  <tbody>\n",
       "    <tr>\n",
       "      <th>0</th>\n",
       "      <td>1.57601371498733</td>\n",
       "      <td>0.515417140943653</td>\n",
       "      <td>1.504180e+00</td>\n",
       "      <td>-0.342065798348245</td>\n",
       "      <td>2.26255748719542</td>\n",
       "    </tr>\n",
       "    <tr>\n",
       "      <th>1</th>\n",
       "      <td>0.922181757884918</td>\n",
       "      <td>0.351576056256450</td>\n",
       "      <td>6.740476e-01</td>\n",
       "      <td>-0.119580369018842</td>\n",
       "      <td>0.454340129159846</td>\n",
       "    </tr>\n",
       "    <tr>\n",
       "      <th>2</th>\n",
       "      <td>0.619036629814046</td>\n",
       "      <td>0.467580529463003</td>\n",
       "      <td>3.245828e-01</td>\n",
       "      <td>-0.0246176221610070</td>\n",
       "      <td>0.105354006477035</td>\n",
       "    </tr>\n",
       "    <tr>\n",
       "      <th>3</th>\n",
       "      <td>0.502675283375246</td>\n",
       "      <td>0.501681298423302</td>\n",
       "      <td>1.212552e-01</td>\n",
       "      <td>-0.00181001646604298</td>\n",
       "      <td>0.0147028253887340</td>\n",
       "    </tr>\n",
       "    <tr>\n",
       "      <th>4</th>\n",
       "      <td>0.485151837185198</td>\n",
       "      <td>0.504103162936533</td>\n",
       "      <td>1.769001e-02</td>\n",
       "      <td>-3.68004073568184e-5</td>\n",
       "      <td>0.000312936594095981</td>\n",
       "    </tr>\n",
       "    <tr>\n",
       "      <th>5</th>\n",
       "      <td>0.484766373980070</td>\n",
       "      <td>0.504153717025570</td>\n",
       "      <td>3.887642e-04</td>\n",
       "      <td>-1.69183507481296e-8</td>\n",
       "      <td>1.51137598436435e-7</td>\n",
       "    </tr>\n",
       "    <tr>\n",
       "      <th>6</th>\n",
       "      <td>0.484766189555101</td>\n",
       "      <td>0.504153739924088</td>\n",
       "      <td>1.858411e-07</td>\n",
       "      <td>-3.85802501057242e-15</td>\n",
       "      <td>3.45834472170736e-14</td>\n",
       "    </tr>\n",
       "  </tbody>\n",
       "</table>\n",
       "</div>"
      ],
      "text/plain": [
       "                  xk                 yk  ||((xk − xk−1),(yk −yk−1))||  \\\n",
       "0   1.57601371498733  0.515417140943653                  1.504180e+00   \n",
       "1  0.922181757884918  0.351576056256450                  6.740476e-01   \n",
       "2  0.619036629814046  0.467580529463003                  3.245828e-01   \n",
       "3  0.502675283375246  0.501681298423302                  1.212552e-01   \n",
       "4  0.485151837185198  0.504103162936533                  1.769001e-02   \n",
       "5  0.484766373980070  0.504153717025570                  3.887642e-04   \n",
       "6  0.484766189555101  0.504153739924088                  1.858411e-07   \n",
       "\n",
       "                f(xk,yk)              g(xk,yk)  \n",
       "0     -0.342065798348245      2.26255748719542  \n",
       "1     -0.119580369018842     0.454340129159846  \n",
       "2    -0.0246176221610070     0.105354006477035  \n",
       "3   -0.00181001646604298    0.0147028253887340  \n",
       "4   -3.68004073568184e-5  0.000312936594095981  \n",
       "5   -1.69183507481296e-8   1.51137598436435e-7  \n",
       "6  -3.85802501057242e-15  3.45834472170736e-14  "
      ]
     },
     "execution_count": 57,
     "metadata": {},
     "output_type": "execute_result"
    }
   ],
   "source": [
    "pd.DataFrame(rows, columns=['xk', 'yk', '||((xk − xk−1),(yk −yk−1))||', 'f(xk,yk)', 'g(xk,yk)'])"
   ]
  },
  {
   "cell_type": "code",
   "execution_count": 58,
   "metadata": {},
   "outputs": [
    {
     "data": {
      "image/png": "[encoded data removed]",
      "text/plain": [
       "<Figure size 432x288 with 1 Axes>"
      ]
     },
     "metadata": {
      "needs_background": "light"
     },
     "output_type": "display_data"
    },
    {
     "data": {
      "text/plain": [
       "<sympy.plotting.plot.Plot at 0x1168205c0>"
      ]
     },
     "execution_count": 58,
     "metadata": {},
     "output_type": "execute_result"
    }
   ],
   "source": [
    "plot_implicit(Eq(f, 0))"
   ]
  },
  {
   "cell_type": "code",
   "execution_count": 59,
   "metadata": {},
   "outputs": [
    {
     "data": {
      "image/png": "[encoded data removed]",
      "text/plain": [
       "<Figure size 432x288 with 1 Axes>"
      ]
     },
     "metadata": {
      "needs_background": "light"
     },
     "output_type": "display_data"
    },
    {
     "data": {
      "text/plain": [
       "<sympy.plotting.plot.Plot at 0x116c4d5c0>"
      ]
     },
     "execution_count": 59,
     "metadata": {},
     "output_type": "execute_result"
    }
   ],
   "source": [
    "plot_implicit(Eq(g, 0))"
   ]
  }
 ],
 "metadata": {
  "kernelspec": {
   "display_name": "Python 3",
   "language": "python",
   "name": "python3"
  },
  "language_info": {
   "codemirror_mode": {
    "name": "ipython",
    "version": 3
   },
   "file_extension": ".py",
   "mimetype": "text/x-python",
   "name": "python",
   "nbconvert_exporter": "python",
   "pygments_lexer": "ipython3",
   "version": "3.7.3"
  }
 },
 "nbformat": 4,
 "nbformat_minor": 2
}
